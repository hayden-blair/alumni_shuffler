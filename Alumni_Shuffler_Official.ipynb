{
  "nbformat": 4,
  "nbformat_minor": 0,
  "metadata": {
    "colab": {
      "name": "Alumni_Shuffler_Official.ipynb",
      "provenance": [],
      "collapsed_sections": [],
      "toc_visible": true,
      "authorship_tag": "ABX9TyMh5mQHjfylBtc/CeqNwGv+",
      "include_colab_link": true
    },
    "kernelspec": {
      "name": "python3",
      "display_name": "Python 3"
    }
  },
  "cells": [
    {
      "cell_type": "markdown",
      "metadata": {
        "id": "view-in-github",
        "colab_type": "text"
      },
      "source": [
        "<a href=\"https://colab.research.google.com/github/nneibaue/alumni_shuffler/blob/master/Alumni_Shuffler_Official.ipynb\" target=\"_parent\"><img src=\"https://colab.research.google.com/assets/colab-badge.svg\" alt=\"Open In Colab\"/></a>"
      ]
    },
    {
      "cell_type": "markdown",
      "metadata": {
        "id": "_Y4K1Kkcr36N",
        "colab_type": "text"
      },
      "source": [
        "<h1>Alumni Shuffler</h1>\n",
        "\n",
        "\n",
        "Hello all! Welcome to Google Colab, this awesome tool for sharing Python notebooks in Google Drive. This has been a fun project to work on, and we hope that it is a useful! We live in a strange time, and are lucky to have technology that allows to stay connected while apart. Not only is it a tool, but this project is an example of two people in different states who have never met in person collaborating on a project together -- a project whose sole purpose is to help facilitate the virtual interaction of people from all over the country.  \n",
        "\n",
        "<br>\n",
        "\n",
        "---\n",
        "\n",
        "<br>\n",
        "\n",
        "The Alumni Shuffler is a tool that helps intelligently create breakout groups during large Zoom calls. The project is in its infancy right now, and is currently being developed by Nathan Neibauer and Hayden Blair. \n",
        "\n",
        "Given a virtual Zoom event with upwards of 20 or 30 people, identified by certain characterics ('track', 'year', 'hair color', 'likes _The Office_ ', etc.), this tool can help ensure that everyone can...\n",
        "\n",
        "* Interact with everyone else in their group\n",
        "* Interact with as many different people as possible\n",
        "\n",
        "...without eating up too much mental real-estate from the coordinator, who likely wants to spend more time interacting with students and less time fussing with a spreadsheet. \n",
        "\n",
        "Alumni data must be saved in a spreadsheet somewhere on Google Drive for the user who is operating this notebook with columns representing the categories to sort by. An example might look like this\n",
        "\n",
        "<br>\n",
        "\n",
        "Name | track | year | hair_color | hard_working |\n",
        "---|---|---| --- | ---\n",
        "Leslie | optics | 2017 | blonde | yes\n",
        "Ron | polymer | 2014 | brown | no\n",
        "Jean Ralphio | semi | 2012 | black | no\n",
        "April | sensors | 2019 | black | yes\n",
        "Ann | semi | 2013 | brown | yes\n",
        "\n",
        "<br>\n",
        "\n",
        "For now, I would imagine that 'track' and 'year' are the only identifiers, but the code should work with any number of them."
      ]
    },
    {
      "cell_type": "markdown",
      "metadata": {
        "id": "V9eZYgbwIgwu",
        "colab_type": "text"
      },
      "source": [
        "### Imports"
      ]
    },
    {
      "cell_type": "markdown",
      "metadata": {
        "id": "tkdRBUofuw4o",
        "colab_type": "text"
      },
      "source": [
        "The following cell clones the github repo so private libraries can be imported."
      ]
    },
    {
      "cell_type": "code",
      "metadata": {
        "id": "YNWcZ2FSsC84",
        "colab_type": "code",
        "colab": {}
      },
      "source": [
        "import os\n",
        "import sys\n",
        "import shutil\n",
        "\n",
        "ROOT = '/content'\n",
        "REPO_NAME = 'alumni_shuffler'\n",
        "REPO_PATH = os.path.join(ROOT, REPO_NAME)\n",
        "\n",
        "# Get latest changes if repo already exists\n",
        "if REPO_NAME in os.listdir(ROOT):\n",
        "  print('Local repo found. Updating....')\n",
        "  os.chdir(REPO_PATH)\n",
        "  !git pull\n",
        "else:\n",
        "  print('No local repo found. Cloning from github...')\n",
        "  !git clone https://github.com/nneibaue/alumni_shuffler\n",
        "\n",
        "if REPO_PATH not in sys.path:\n",
        "  print(f'Adding {REPO_PATH} to path')\n",
        "  sys.path.append(REPO_PATH)\n",
        "\n",
        "os.chdir(ROOT)"
      ],
      "execution_count": 0,
      "outputs": []
    },
    {
      "cell_type": "code",
      "metadata": {
        "id": "-WPbGnIvz2Ur",
        "colab_type": "code",
        "colab": {}
      },
      "source": [
        "# Other imports\n",
        "import html_maker\n",
        "import zoom_sesh\n",
        "import ipywidgets \n",
        "from google.colab import drive, widgets, output\n",
        "from IPython.display import display, HTML\n",
        "\n",
        "# Google drive mounting\n",
        "drive.mount('/content/gdrive')\n",
        "DRIVE_BASE=('/content/gdrive/My Drive')"
      ],
      "execution_count": 0,
      "outputs": []
    },
    {
      "cell_type": "code",
      "metadata": {
        "id": "udbAqrF-1AcJ",
        "colab_type": "code",
        "colab": {},
        "cellView": "both"
      },
      "source": [
        "#@title Zoom Session Manager\n",
        "\n",
        "#@markdown Enter full Google Drive path to Google Sheets file containing student\n",
        "#@markdown info for this meeting:\n",
        "student_file = \"\" #@param {type:\"string\"}"
      ],
      "execution_count": 0,
      "outputs": []
    }
  ]
}